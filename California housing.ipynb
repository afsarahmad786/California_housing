{
 "cells": [
  {
   "cell_type": "code",
   "execution_count": 81,
   "metadata": {},
   "outputs": [],
   "source": [
    "import numpy as np\n",
    "import pandas as pd\n",
    "import matplotlib.pyplot as plt\n",
    "import seaborn as sns\n",
    "%matplotlib inline\n",
    "housing=pd.read_csv('housing.csv')\n"
   ]
  },
  {
   "cell_type": "code",
   "execution_count": 82,
   "metadata": {},
   "outputs": [
    {
     "data": {
      "text/html": [
       "<div>\n",
       "<style scoped>\n",
       "    .dataframe tbody tr th:only-of-type {\n",
       "        vertical-align: middle;\n",
       "    }\n",
       "\n",
       "    .dataframe tbody tr th {\n",
       "        vertical-align: top;\n",
       "    }\n",
       "\n",
       "    .dataframe thead th {\n",
       "        text-align: right;\n",
       "    }\n",
       "</style>\n",
       "<table border=\"1\" class=\"dataframe\">\n",
       "  <thead>\n",
       "    <tr style=\"text-align: right;\">\n",
       "      <th></th>\n",
       "      <th>longitude</th>\n",
       "      <th>latitude</th>\n",
       "      <th>housing_median_age</th>\n",
       "      <th>total_rooms</th>\n",
       "      <th>total_bedrooms</th>\n",
       "      <th>population</th>\n",
       "      <th>households</th>\n",
       "      <th>median_income</th>\n",
       "      <th>median_house_value</th>\n",
       "      <th>ocean_proximity</th>\n",
       "    </tr>\n",
       "  </thead>\n",
       "  <tbody>\n",
       "    <tr>\n",
       "      <th>0</th>\n",
       "      <td>-122.23</td>\n",
       "      <td>37.88</td>\n",
       "      <td>41.0</td>\n",
       "      <td>880.0</td>\n",
       "      <td>129.0</td>\n",
       "      <td>322.0</td>\n",
       "      <td>126.0</td>\n",
       "      <td>8.3252</td>\n",
       "      <td>452600.0</td>\n",
       "      <td>NEAR BAY</td>\n",
       "    </tr>\n",
       "    <tr>\n",
       "      <th>1</th>\n",
       "      <td>-122.22</td>\n",
       "      <td>37.86</td>\n",
       "      <td>21.0</td>\n",
       "      <td>7099.0</td>\n",
       "      <td>1106.0</td>\n",
       "      <td>2401.0</td>\n",
       "      <td>1138.0</td>\n",
       "      <td>8.3014</td>\n",
       "      <td>358500.0</td>\n",
       "      <td>NEAR BAY</td>\n",
       "    </tr>\n",
       "    <tr>\n",
       "      <th>2</th>\n",
       "      <td>-122.24</td>\n",
       "      <td>37.85</td>\n",
       "      <td>52.0</td>\n",
       "      <td>1467.0</td>\n",
       "      <td>190.0</td>\n",
       "      <td>496.0</td>\n",
       "      <td>177.0</td>\n",
       "      <td>7.2574</td>\n",
       "      <td>352100.0</td>\n",
       "      <td>NEAR BAY</td>\n",
       "    </tr>\n",
       "    <tr>\n",
       "      <th>3</th>\n",
       "      <td>-122.25</td>\n",
       "      <td>37.85</td>\n",
       "      <td>52.0</td>\n",
       "      <td>1274.0</td>\n",
       "      <td>235.0</td>\n",
       "      <td>558.0</td>\n",
       "      <td>219.0</td>\n",
       "      <td>5.6431</td>\n",
       "      <td>341300.0</td>\n",
       "      <td>NEAR BAY</td>\n",
       "    </tr>\n",
       "    <tr>\n",
       "      <th>4</th>\n",
       "      <td>-122.25</td>\n",
       "      <td>37.85</td>\n",
       "      <td>52.0</td>\n",
       "      <td>1627.0</td>\n",
       "      <td>280.0</td>\n",
       "      <td>565.0</td>\n",
       "      <td>259.0</td>\n",
       "      <td>3.8462</td>\n",
       "      <td>342200.0</td>\n",
       "      <td>NEAR BAY</td>\n",
       "    </tr>\n",
       "  </tbody>\n",
       "</table>\n",
       "</div>"
      ],
      "text/plain": [
       "   longitude  latitude  housing_median_age  total_rooms  total_bedrooms  \\\n",
       "0    -122.23     37.88                41.0        880.0           129.0   \n",
       "1    -122.22     37.86                21.0       7099.0          1106.0   \n",
       "2    -122.24     37.85                52.0       1467.0           190.0   \n",
       "3    -122.25     37.85                52.0       1274.0           235.0   \n",
       "4    -122.25     37.85                52.0       1627.0           280.0   \n",
       "\n",
       "   population  households  median_income  median_house_value ocean_proximity  \n",
       "0       322.0       126.0         8.3252            452600.0        NEAR BAY  \n",
       "1      2401.0      1138.0         8.3014            358500.0        NEAR BAY  \n",
       "2       496.0       177.0         7.2574            352100.0        NEAR BAY  \n",
       "3       558.0       219.0         5.6431            341300.0        NEAR BAY  \n",
       "4       565.0       259.0         3.8462            342200.0        NEAR BAY  "
      ]
     },
     "execution_count": 82,
     "metadata": {},
     "output_type": "execute_result"
    }
   ],
   "source": [
    "housing.head()"
   ]
  },
  {
   "cell_type": "code",
   "execution_count": 83,
   "metadata": {},
   "outputs": [
    {
     "data": {
      "text/plain": [
       "longitude               0\n",
       "latitude                0\n",
       "housing_median_age      0\n",
       "total_rooms             0\n",
       "total_bedrooms        207\n",
       "population              0\n",
       "households              0\n",
       "median_income           0\n",
       "median_house_value      0\n",
       "ocean_proximity         0\n",
       "dtype: int64"
      ]
     },
     "execution_count": 83,
     "metadata": {},
     "output_type": "execute_result"
    }
   ],
   "source": [
    "housing.isnull().sum()"
   ]
  },
  {
   "cell_type": "code",
   "execution_count": 84,
   "metadata": {},
   "outputs": [],
   "source": [
    "housing[\"rooms_per_household\"]=housing[\"total_bedrooms\"]/housing[\"households\"]\n",
    "housing[\"bedrooms_per_rooms\"]=housing[\"total_bedrooms\"]/housing[\"total_rooms\"]\n",
    "housing[\"population_per_household\"]=housing[\"population\"]/housing[\"households\"]\n"
   ]
  },
  {
   "cell_type": "code",
   "execution_count": 85,
   "metadata": {},
   "outputs": [
    {
     "data": {
      "text/plain": [
       "longitude                  -0.045967\n",
       "latitude                   -0.144160\n",
       "housing_median_age          0.105623\n",
       "total_rooms                 0.134153\n",
       "total_bedrooms              0.049686\n",
       "population                 -0.024650\n",
       "households                  0.065843\n",
       "median_income               0.688075\n",
       "median_house_value          1.000000\n",
       "rooms_per_household        -0.046739\n",
       "bedrooms_per_rooms         -0.255880\n",
       "population_per_household   -0.023737\n",
       "Name: median_house_value, dtype: float64"
      ]
     },
     "execution_count": 85,
     "metadata": {},
     "output_type": "execute_result"
    }
   ],
   "source": [
    "correlation=housing.corr()\n",
    "correlation[\"median_house_value\"]"
   ]
  },
  {
   "cell_type": "code",
   "execution_count": 86,
   "metadata": {},
   "outputs": [
    {
     "data": {
      "text/plain": [
       "longitude                     0\n",
       "latitude                      0\n",
       "housing_median_age            0\n",
       "total_rooms                   0\n",
       "total_bedrooms              207\n",
       "population                    0\n",
       "households                    0\n",
       "median_income                 0\n",
       "median_house_value            0\n",
       "ocean_proximity               0\n",
       "rooms_per_household         207\n",
       "bedrooms_per_rooms          207\n",
       "population_per_household      0\n",
       "dtype: int64"
      ]
     },
     "execution_count": 86,
     "metadata": {},
     "output_type": "execute_result"
    }
   ],
   "source": [
    "housing.isnull().sum()"
   ]
  },
  {
   "cell_type": "code",
   "execution_count": 87,
   "metadata": {},
   "outputs": [],
   "source": [
    "men=housing[\"total_bedrooms\"].mean()\n",
    "housing[\"total_bedrooms\"].fillna(men,inplace=True)\n",
    "men2=housing[\"rooms_per_household\"].mean()\n",
    "housing[\"rooms_per_household\"].fillna(men2,inplace=True)\n",
    "men3=housing[\"bedrooms_per_rooms\"].mean()\n",
    "housing[\"bedrooms_per_rooms\"].fillna(men3,inplace=True)"
   ]
  },
  {
   "cell_type": "code",
   "execution_count": 88,
   "metadata": {},
   "outputs": [
    {
     "data": {
      "text/plain": [
       "longitude                   0\n",
       "latitude                    0\n",
       "housing_median_age          0\n",
       "total_rooms                 0\n",
       "total_bedrooms              0\n",
       "population                  0\n",
       "households                  0\n",
       "median_income               0\n",
       "median_house_value          0\n",
       "ocean_proximity             0\n",
       "rooms_per_household         0\n",
       "bedrooms_per_rooms          0\n",
       "population_per_household    0\n",
       "dtype: int64"
      ]
     },
     "execution_count": 88,
     "metadata": {},
     "output_type": "execute_result"
    }
   ],
   "source": [
    "housing.isnull().sum()"
   ]
  },
  {
   "cell_type": "code",
   "execution_count": 89,
   "metadata": {},
   "outputs": [
    {
     "data": {
      "text/html": [
       "<div>\n",
       "<style scoped>\n",
       "    .dataframe tbody tr th:only-of-type {\n",
       "        vertical-align: middle;\n",
       "    }\n",
       "\n",
       "    .dataframe tbody tr th {\n",
       "        vertical-align: top;\n",
       "    }\n",
       "\n",
       "    .dataframe thead th {\n",
       "        text-align: right;\n",
       "    }\n",
       "</style>\n",
       "<table border=\"1\" class=\"dataframe\">\n",
       "  <thead>\n",
       "    <tr style=\"text-align: right;\">\n",
       "      <th></th>\n",
       "      <th>longitude</th>\n",
       "      <th>latitude</th>\n",
       "      <th>housing_median_age</th>\n",
       "      <th>total_rooms</th>\n",
       "      <th>total_bedrooms</th>\n",
       "      <th>population</th>\n",
       "      <th>households</th>\n",
       "      <th>median_income</th>\n",
       "      <th>rooms_per_household</th>\n",
       "      <th>bedrooms_per_rooms</th>\n",
       "      <th>population_per_household</th>\n",
       "      <th>ocean_proximity_&lt;1H OCEAN</th>\n",
       "      <th>ocean_proximity_INLAND</th>\n",
       "      <th>ocean_proximity_ISLAND</th>\n",
       "      <th>ocean_proximity_NEAR BAY</th>\n",
       "      <th>ocean_proximity_NEAR OCEAN</th>\n",
       "    </tr>\n",
       "  </thead>\n",
       "  <tbody>\n",
       "    <tr>\n",
       "      <th>0</th>\n",
       "      <td>-122.23</td>\n",
       "      <td>37.88</td>\n",
       "      <td>41.0</td>\n",
       "      <td>880.0</td>\n",
       "      <td>129.0</td>\n",
       "      <td>322.0</td>\n",
       "      <td>126.0</td>\n",
       "      <td>8.3252</td>\n",
       "      <td>1.023810</td>\n",
       "      <td>0.146591</td>\n",
       "      <td>2.555556</td>\n",
       "      <td>0</td>\n",
       "      <td>0</td>\n",
       "      <td>0</td>\n",
       "      <td>1</td>\n",
       "      <td>0</td>\n",
       "    </tr>\n",
       "    <tr>\n",
       "      <th>1</th>\n",
       "      <td>-122.22</td>\n",
       "      <td>37.86</td>\n",
       "      <td>21.0</td>\n",
       "      <td>7099.0</td>\n",
       "      <td>1106.0</td>\n",
       "      <td>2401.0</td>\n",
       "      <td>1138.0</td>\n",
       "      <td>8.3014</td>\n",
       "      <td>0.971880</td>\n",
       "      <td>0.155797</td>\n",
       "      <td>2.109842</td>\n",
       "      <td>0</td>\n",
       "      <td>0</td>\n",
       "      <td>0</td>\n",
       "      <td>1</td>\n",
       "      <td>0</td>\n",
       "    </tr>\n",
       "    <tr>\n",
       "      <th>2</th>\n",
       "      <td>-122.24</td>\n",
       "      <td>37.85</td>\n",
       "      <td>52.0</td>\n",
       "      <td>1467.0</td>\n",
       "      <td>190.0</td>\n",
       "      <td>496.0</td>\n",
       "      <td>177.0</td>\n",
       "      <td>7.2574</td>\n",
       "      <td>1.073446</td>\n",
       "      <td>0.129516</td>\n",
       "      <td>2.802260</td>\n",
       "      <td>0</td>\n",
       "      <td>0</td>\n",
       "      <td>0</td>\n",
       "      <td>1</td>\n",
       "      <td>0</td>\n",
       "    </tr>\n",
       "    <tr>\n",
       "      <th>3</th>\n",
       "      <td>-122.25</td>\n",
       "      <td>37.85</td>\n",
       "      <td>52.0</td>\n",
       "      <td>1274.0</td>\n",
       "      <td>235.0</td>\n",
       "      <td>558.0</td>\n",
       "      <td>219.0</td>\n",
       "      <td>5.6431</td>\n",
       "      <td>1.073059</td>\n",
       "      <td>0.184458</td>\n",
       "      <td>2.547945</td>\n",
       "      <td>0</td>\n",
       "      <td>0</td>\n",
       "      <td>0</td>\n",
       "      <td>1</td>\n",
       "      <td>0</td>\n",
       "    </tr>\n",
       "    <tr>\n",
       "      <th>4</th>\n",
       "      <td>-122.25</td>\n",
       "      <td>37.85</td>\n",
       "      <td>52.0</td>\n",
       "      <td>1627.0</td>\n",
       "      <td>280.0</td>\n",
       "      <td>565.0</td>\n",
       "      <td>259.0</td>\n",
       "      <td>3.8462</td>\n",
       "      <td>1.081081</td>\n",
       "      <td>0.172096</td>\n",
       "      <td>2.181467</td>\n",
       "      <td>0</td>\n",
       "      <td>0</td>\n",
       "      <td>0</td>\n",
       "      <td>1</td>\n",
       "      <td>0</td>\n",
       "    </tr>\n",
       "  </tbody>\n",
       "</table>\n",
       "</div>"
      ],
      "text/plain": [
       "   longitude  latitude  housing_median_age  total_rooms  total_bedrooms  \\\n",
       "0    -122.23     37.88                41.0        880.0           129.0   \n",
       "1    -122.22     37.86                21.0       7099.0          1106.0   \n",
       "2    -122.24     37.85                52.0       1467.0           190.0   \n",
       "3    -122.25     37.85                52.0       1274.0           235.0   \n",
       "4    -122.25     37.85                52.0       1627.0           280.0   \n",
       "\n",
       "   population  households  median_income  rooms_per_household  \\\n",
       "0       322.0       126.0         8.3252             1.023810   \n",
       "1      2401.0      1138.0         8.3014             0.971880   \n",
       "2       496.0       177.0         7.2574             1.073446   \n",
       "3       558.0       219.0         5.6431             1.073059   \n",
       "4       565.0       259.0         3.8462             1.081081   \n",
       "\n",
       "   bedrooms_per_rooms  population_per_household  ocean_proximity_<1H OCEAN  \\\n",
       "0            0.146591                  2.555556                          0   \n",
       "1            0.155797                  2.109842                          0   \n",
       "2            0.129516                  2.802260                          0   \n",
       "3            0.184458                  2.547945                          0   \n",
       "4            0.172096                  2.181467                          0   \n",
       "\n",
       "   ocean_proximity_INLAND  ocean_proximity_ISLAND  ocean_proximity_NEAR BAY  \\\n",
       "0                       0                       0                         1   \n",
       "1                       0                       0                         1   \n",
       "2                       0                       0                         1   \n",
       "3                       0                       0                         1   \n",
       "4                       0                       0                         1   \n",
       "\n",
       "   ocean_proximity_NEAR OCEAN  \n",
       "0                           0  \n",
       "1                           0  \n",
       "2                           0  \n",
       "3                           0  \n",
       "4                           0  "
      ]
     },
     "execution_count": 89,
     "metadata": {},
     "output_type": "execute_result"
    }
   ],
   "source": [
    "y=housing[\"median_house_value\"].values\n",
    "X=housing.drop(columns=\"median_house_value\",axis=1)\n",
    "X=pd.get_dummies(X, prefix=['ocean_proximity'])\n",
    "X.head()"
   ]
  },
  {
   "cell_type": "code",
   "execution_count": 90,
   "metadata": {},
   "outputs": [
    {
     "data": {
      "text/plain": [
       "((13828, 16), (6812, 16), (13828,), (6812,))"
      ]
     },
     "execution_count": 90,
     "metadata": {},
     "output_type": "execute_result"
    }
   ],
   "source": [
    "\n",
    "from sklearn.model_selection import train_test_split\n",
    "## Train test split follows this distinguished code pattern and helps creating train and test set to build machine learning. \n",
    "X_train, X_test, y_train, y_test = train_test_split(X.values, y,test_size = .33, random_state = 0)\n",
    "X_train.shape, X_test.shape, y_train.shape, y_test.shape"
   ]
  },
  {
   "cell_type": "code",
   "execution_count": 91,
   "metadata": {},
   "outputs": [
    {
     "name": "stderr",
     "output_type": "stream",
     "text": [
      "C:\\Users\\hp\\Anaconda3\\envs\\tf_gpu\\lib\\importlib\\_bootstrap.py:219: RuntimeWarning: numpy.ufunc size changed, may indicate binary incompatibility. Expected 192 from C header, got 216 from PyObject\n",
      "  return f(*args, **kwds)\n"
     ]
    }
   ],
   "source": [
    "## importing necessary models.\n",
    "from sklearn.linear_model import LinearRegression,Ridge,ElasticNet,Lasso\n",
    "from sklearn.metrics import mean_squared_error, mean_absolute_error,r2_score\n",
    "\n",
    "## Call in the LinearRegression object\n",
    "lin_reg = LinearRegression(normalize=True, n_jobs=-1)\n",
    "## fit train and test data. \n",
    "lin_reg.fit(X_train, y_train)\n",
    "## Predict test data. \n",
    "y_pred = lin_reg.predict(X_test)"
   ]
  },
  {
   "cell_type": "code",
   "execution_count": 92,
   "metadata": {},
   "outputs": [
    {
     "data": {
      "text/plain": [
       "0.6505655075136352"
      ]
     },
     "execution_count": 92,
     "metadata": {},
     "output_type": "execute_result"
    }
   ],
   "source": [
    "mean_squared_error(y_test,y_pred)\n",
    "r2_score(y_test,y_pred)"
   ]
  },
  {
   "cell_type": "code",
   "execution_count": 93,
   "metadata": {},
   "outputs": [
    {
     "name": "stdout",
     "output_type": "stream",
     "text": [
      "R2:  0.7552029990252491\n"
     ]
    }
   ],
   "source": [
    "from sklearn.model_selection import learning_curve,cross_val_score,validation_curve,train_test_split\n",
    "\n",
    "lr=LinearRegression()\n",
    "scores=cross_val_score(lr,X,y,n_jobs=2,cv=5,scoring='r2')\n",
    "print('R2: ',np.sqrt(scores).mean())"
   ]
  },
  {
   "cell_type": "code",
   "execution_count": 94,
   "metadata": {},
   "outputs": [
    {
     "name": "stdout",
     "output_type": "stream",
     "text": [
      "0.46683810853612784\n",
      "R2:  0.7551883838479203\n"
     ]
    }
   ],
   "source": [
    "ridge=Ridge(alpha=0.1,random_state=42)\n",
    "ridge.fit(X_train, y_train)\n",
    "## Predict test data. \n",
    "y_pred = ridge.predict(X_test)\n",
    "print(r2_score(y_pred,y_test))\n",
    "scores=cross_val_score(ridge,X,y,n_jobs=2,cv=5,scoring='r2')\n",
    "print('R2: ',np.sqrt(scores).mean())"
   ]
  },
  {
   "cell_type": "code",
   "execution_count": 95,
   "metadata": {},
   "outputs": [
    {
     "name": "stdout",
     "output_type": "stream",
     "text": [
      "R2:  0.7551903102746259\n"
     ]
    }
   ],
   "source": [
    "lasso=Lasso(alpha=0.1,random_state=42)\n",
    "scores=cross_val_score(lasso,X,y,n_jobs=-1,cv=5,scoring='r2')\n",
    "print('R2: ',np.sqrt(scores).mean())"
   ]
  },
  {
   "cell_type": "code",
   "execution_count": 96,
   "metadata": {},
   "outputs": [
    {
     "name": "stdout",
     "output_type": "stream",
     "text": [
      "R2:  0.7595094912886187\n"
     ]
    }
   ],
   "source": [
    "els=ElasticNet(alpha=0.1,random_state=42)\n",
    "scores=cross_val_score(els,X,y,n_jobs=-1,cv=5,scoring='r2')\n",
    "print('R2: ',np.sqrt(scores).mean())"
   ]
  },
  {
   "cell_type": "code",
   "execution_count": 97,
   "metadata": {},
   "outputs": [
    {
     "name": "stdout",
     "output_type": "stream",
     "text": [
      "-851038158604553.2\n"
     ]
    }
   ],
   "source": [
    "from sklearn.svm import SVR\n",
    "sc=SVR(gamma='auto')\n",
    "sc.fit(X_train,y_train)\n",
    "y_pred=sc.predict(X_test)\n",
    "print(r2_score(y_pred,y_test))"
   ]
  },
  {
   "cell_type": "code",
   "execution_count": 98,
   "metadata": {},
   "outputs": [
    {
     "name": "stderr",
     "output_type": "stream",
     "text": [
      "C:\\Users\\hp\\Anaconda3\\envs\\tf_gpu\\lib\\importlib\\_bootstrap.py:219: RuntimeWarning: numpy.ufunc size changed, may indicate binary incompatibility. Expected 192 from C header, got 216 from PyObject\n",
      "  return f(*args, **kwds)\n"
     ]
    },
    {
     "data": {
      "text/plain": [
       "0.6360077172391386"
      ]
     },
     "execution_count": 98,
     "metadata": {},
     "output_type": "execute_result"
    }
   ],
   "source": [
    "from sklearn.tree import DecisionTreeRegressor\n",
    "dtr=DecisionTreeRegressor(random_state=42)\n",
    "dtr.fit(X_train,y_train)\n",
    "y_pred=dtr.predict(X_test)\n",
    "r2_score(y_pred,y_test)"
   ]
  },
  {
   "cell_type": "code",
   "execution_count": 99,
   "metadata": {},
   "outputs": [
    {
     "data": {
      "image/png": "[encoded data removed]",
      "text/plain": [
       "<Figure size 1080x1080 with 2 Axes>"
      ]
     },
     "metadata": {
      "needs_background": "light"
     },
     "output_type": "display_data"
    }
   ],
   "source": [
    "\n",
    "import seaborn as sb\n",
    "C_mat = housing.corr()\n",
    "fig = plt.figure(figsize = (15,15))\n",
    "\n",
    "sb.heatmap(C_mat, vmax = .8, square = True)\n",
    "plt.show()"
   ]
  },
  {
   "cell_type": "code",
   "execution_count": 100,
   "metadata": {},
   "outputs": [
    {
     "name": "stdout",
     "output_type": "stream",
     "text": [
      "Model: \"sequential_1\"\n",
      "_________________________________________________________________\n",
      "Layer (type)                 Output Shape              Param #   \n",
      "=================================================================\n",
      "dense_31 (Dense)             (None, 512)               8704      \n",
      "_________________________________________________________________\n",
      "dense_32 (Dense)             (None, 1024)              525312    \n",
      "_________________________________________________________________\n",
      "dense_33 (Dense)             (None, 1024)              1049600   \n",
      "_________________________________________________________________\n",
      "dense_34 (Dense)             (None, 1024)              1049600   \n",
      "_________________________________________________________________\n",
      "dense_35 (Dense)             (None, 1)                 1025      \n",
      "=================================================================\n",
      "Total params: 2,634,241\n",
      "Trainable params: 2,634,241\n",
      "Non-trainable params: 0\n",
      "_________________________________________________________________\n"
     ]
    }
   ],
   "source": [
    "from keras.callbacks import ModelCheckpoint\n",
    "from keras.models import Sequential\n",
    "from keras.layers import Dense, Activation, Flatten\n",
    "NN_model = Sequential()\n",
    "\n",
    "# The Input Layer :\n",
    "NN_model.add(Dense(512, kernel_initializer='normal',input_dim = X_train.shape[1], activation='relu'))\n",
    "\n",
    "# The Hidden Layers :\n",
    "NN_model.add(Dense(1024, kernel_initializer='normal',activation='relu'))\n",
    "NN_model.add(Dense(1024, kernel_initializer='normal',activation='relu'))\n",
    "NN_model.add(Dense(1024, kernel_initializer='normal',activation='relu'))\n",
    "\n",
    "# The Output Layer :\n",
    "NN_model.add(Dense(1, kernel_initializer='normal',activation='linear'))\n",
    "\n",
    "# Compile the network :\n",
    "NN_model.compile(loss='mean_absolute_error', optimizer='adam', metrics=['mean_absolute_error'])\n",
    "NN_model.summary()"
   ]
  },
  {
   "cell_type": "code",
   "execution_count": 276,
   "metadata": {},
   "outputs": [],
   "source": [
    "from keras.callbacks import ReduceLROnPlateau\n",
    "learning_rate_reduction = ReduceLROnPlateau(monitor='val_acc', \n",
    "                                            patience=3, \n",
    "                                            verbose=1, \n",
    "                                            factor=0.5, \n",
    "                                            min_lr=0.0001)"
   ]
  },
  {
   "cell_type": "code",
   "execution_count": 278,
   "metadata": {},
   "outputs": [
    {
     "name": "stdout",
     "output_type": "stream",
     "text": [
      "Train on 11062 samples, validate on 2766 samples\n",
      "Epoch 1/50\n",
      "11062/11062 [==============================] - 25s 2ms/step - loss: 38830.6666 - mean_absolute_error: 38830.6875 - val_loss: 40649.2301 - val_mean_absolute_error: 40649.2266\n",
      "\n",
      "Epoch 00001: val_loss improved from inf to 40649.23005, saving model to Weights-001--40649.23005.hdf5\n",
      "Epoch 2/50\n",
      "   64/11062 [..............................] - ETA: 25s - loss: 33782.1670 - mean_absolute_error: 33782.1680"
     ]
    },
    {
     "name": "stderr",
     "output_type": "stream",
     "text": [
      "C:\\Users\\hp\\Anaconda3\\envs\\tf_gpu\\lib\\site-packages\\keras\\callbacks\\callbacks.py:1042: RuntimeWarning: Reduce LR on plateau conditioned on metric `val_acc` which is not available. Available metrics are: val_loss,val_mean_absolute_error,loss,mean_absolute_error,lr\n",
      "  (self.monitor, ','.join(list(logs.keys()))), RuntimeWarning\n"
     ]
    },
    {
     "name": "stdout",
     "output_type": "stream",
     "text": [
      "11062/11062 [==============================] - 25s 2ms/step - loss: 39147.0819 - mean_absolute_error: 39147.0781 - val_loss: 41878.6883 - val_mean_absolute_error: 41878.6914\n",
      "\n",
      "Epoch 00002: val_loss did not improve from 40649.23005\n",
      "Epoch 3/50\n",
      "11062/11062 [==============================] - 25s 2ms/step - loss: 38681.9080 - mean_absolute_error: 38681.9180 - val_loss: 42062.7401 - val_mean_absolute_error: 42062.7422\n",
      "\n",
      "Epoch 00003: val_loss did not improve from 40649.23005\n",
      "Epoch 4/50\n",
      "11062/11062 [==============================] - 24s 2ms/step - loss: 38810.7761 - mean_absolute_error: 38810.7852 - val_loss: 41281.0862 - val_mean_absolute_error: 41281.0859\n",
      "\n",
      "Epoch 00004: val_loss did not improve from 40649.23005\n",
      "Epoch 5/50\n",
      "11062/11062 [==============================] - 23s 2ms/step - loss: 38762.1068 - mean_absolute_error: 38762.0977 - val_loss: 45301.5288 - val_mean_absolute_error: 45301.5195\n",
      "\n",
      "Epoch 00005: val_loss did not improve from 40649.23005\n",
      "Epoch 6/50\n",
      "11062/11062 [==============================] - 23s 2ms/step - loss: 38829.6155 - mean_absolute_error: 38829.6211 - val_loss: 41624.6584 - val_mean_absolute_error: 41624.6641\n",
      "\n",
      "Epoch 00006: val_loss did not improve from 40649.23005\n",
      "Epoch 7/50\n",
      "11062/11062 [==============================] - 23s 2ms/step - loss: 39059.3190 - mean_absolute_error: 39059.3125 - val_loss: 41583.2186 - val_mean_absolute_error: 41583.2227\n",
      "\n",
      "Epoch 00007: val_loss did not improve from 40649.23005\n",
      "Epoch 8/50\n",
      "11062/11062 [==============================] - 23s 2ms/step - loss: 38745.3694 - mean_absolute_error: 38745.3789 - val_loss: 41943.1348 - val_mean_absolute_error: 41943.1367\n",
      "\n",
      "Epoch 00008: val_loss did not improve from 40649.23005\n",
      "Epoch 9/50\n",
      "11062/11062 [==============================] - 23s 2ms/step - loss: 39120.9480 - mean_absolute_error: 39120.9688 - val_loss: 47671.3579 - val_mean_absolute_error: 47671.3516\n",
      "\n",
      "Epoch 00009: val_loss did not improve from 40649.23005\n",
      "Epoch 10/50\n",
      "11062/11062 [==============================] - 24s 2ms/step - loss: 39297.3390 - mean_absolute_error: 39297.3203 - val_loss: 41210.1045 - val_mean_absolute_error: 41210.1172\n",
      "\n",
      "Epoch 00010: val_loss did not improve from 40649.23005\n",
      "Epoch 11/50\n",
      "11062/11062 [==============================] - 23s 2ms/step - loss: 38708.8806 - mean_absolute_error: 38708.8672 - val_loss: 45500.9267 - val_mean_absolute_error: 45500.9297\n",
      "\n",
      "Epoch 00011: val_loss did not improve from 40649.23005\n",
      "Epoch 12/50\n",
      "11062/11062 [==============================] - 23s 2ms/step - loss: 38284.7388 - mean_absolute_error: 38284.7461 - val_loss: 41417.6869 - val_mean_absolute_error: 41417.6875\n",
      "\n",
      "Epoch 00012: val_loss did not improve from 40649.23005\n",
      "Epoch 13/50\n",
      "11062/11062 [==============================] - 23s 2ms/step - loss: 38535.1849 - mean_absolute_error: 38535.1797 - val_loss: 41956.7551 - val_mean_absolute_error: 41956.7539\n",
      "\n",
      "Epoch 00013: val_loss did not improve from 40649.23005\n",
      "Epoch 14/50\n",
      "11062/11062 [==============================] - 24s 2ms/step - loss: 38597.9572 - mean_absolute_error: 38597.9453 - val_loss: 41045.2408 - val_mean_absolute_error: 41045.2422\n",
      "\n",
      "Epoch 00014: val_loss did not improve from 40649.23005\n",
      "Epoch 15/50\n",
      "11062/11062 [==============================] - 24s 2ms/step - loss: 38293.7733 - mean_absolute_error: 38293.7695 - val_loss: 42304.2133 - val_mean_absolute_error: 42304.2188\n",
      "\n",
      "Epoch 00015: val_loss did not improve from 40649.23005\n",
      "Epoch 16/50\n",
      "11062/11062 [==============================] - 24s 2ms/step - loss: 38468.8925 - mean_absolute_error: 38468.8867 - val_loss: 42219.5814 - val_mean_absolute_error: 42219.5820\n",
      "\n",
      "Epoch 00016: val_loss did not improve from 40649.23005\n",
      "Epoch 17/50\n",
      "11062/11062 [==============================] - 24s 2ms/step - loss: 38520.9694 - mean_absolute_error: 38520.9766 - val_loss: 44849.9008 - val_mean_absolute_error: 44849.8945\n",
      "\n",
      "Epoch 00017: val_loss did not improve from 40649.23005\n",
      "Epoch 18/50\n",
      "11062/11062 [==============================] - 23s 2ms/step - loss: 38532.0010 - mean_absolute_error: 38531.9922 - val_loss: 41223.7350 - val_mean_absolute_error: 41223.7461\n",
      "\n",
      "Epoch 00018: val_loss did not improve from 40649.23005\n",
      "Epoch 19/50\n",
      "11062/11062 [==============================] - 23s 2ms/step - loss: 38060.6075 - mean_absolute_error: 38060.6133 - val_loss: 41176.9140 - val_mean_absolute_error: 41176.9180\n",
      "\n",
      "Epoch 00019: val_loss did not improve from 40649.23005\n",
      "Epoch 20/50\n",
      "11062/11062 [==============================] - 23s 2ms/step - loss: 38464.8224 - mean_absolute_error: 38464.7969 - val_loss: 41242.4521 - val_mean_absolute_error: 41242.4570\n",
      "\n",
      "Epoch 00020: val_loss did not improve from 40649.23005\n",
      "Epoch 21/50\n",
      "11062/11062 [==============================] - 23s 2ms/step - loss: 38205.1426 - mean_absolute_error: 38205.1445 - val_loss: 41403.5006 - val_mean_absolute_error: 41403.4922\n",
      "\n",
      "Epoch 00021: val_loss did not improve from 40649.23005\n",
      "Epoch 22/50\n",
      "11062/11062 [==============================] - 23s 2ms/step - loss: 38875.7856 - mean_absolute_error: 38875.7695 - val_loss: 41865.3443 - val_mean_absolute_error: 41865.3516\n",
      "\n",
      "Epoch 00022: val_loss did not improve from 40649.23005\n",
      "Epoch 23/50\n",
      "11062/11062 [==============================] - 23s 2ms/step - loss: 38515.9204 - mean_absolute_error: 38515.9258 - val_loss: 42146.9578 - val_mean_absolute_error: 42146.9531\n",
      "\n",
      "Epoch 00023: val_loss did not improve from 40649.23005\n",
      "Epoch 24/50\n",
      "11062/11062 [==============================] - 23s 2ms/step - loss: 38264.9551 - mean_absolute_error: 38264.9648 - val_loss: 41368.4702 - val_mean_absolute_error: 41368.4727\n",
      "\n",
      "Epoch 00024: val_loss did not improve from 40649.23005\n",
      "Epoch 25/50\n",
      "11062/11062 [==============================] - 23s 2ms/step - loss: 38348.0389 - mean_absolute_error: 38348.0391 - val_loss: 41024.4556 - val_mean_absolute_error: 41024.4609\n",
      "\n",
      "Epoch 00025: val_loss did not improve from 40649.23005\n",
      "Epoch 26/50\n",
      "11062/11062 [==============================] - 23s 2ms/step - loss: 37680.0639 - mean_absolute_error: 37680.0625 - val_loss: 42108.1433 - val_mean_absolute_error: 42108.1484\n",
      "\n",
      "Epoch 00026: val_loss did not improve from 40649.23005\n",
      "Epoch 27/50\n",
      "11062/11062 [==============================] - 23s 2ms/step - loss: 38741.7254 - mean_absolute_error: 38741.7188 - val_loss: 44390.5551 - val_mean_absolute_error: 44390.5586\n",
      "\n",
      "Epoch 00027: val_loss did not improve from 40649.23005\n",
      "Epoch 28/50\n",
      "11062/11062 [==============================] - 23s 2ms/step - loss: 37726.4235 - mean_absolute_error: 37726.4258 - val_loss: 41052.5468 - val_mean_absolute_error: 41052.5391\n",
      "\n",
      "Epoch 00028: val_loss did not improve from 40649.23005\n",
      "Epoch 29/50\n",
      "11062/11062 [==============================] - 23s 2ms/step - loss: 38014.6675 - mean_absolute_error: 38014.6680 - val_loss: 42704.7572 - val_mean_absolute_error: 42704.7578\n",
      "\n",
      "Epoch 00029: val_loss did not improve from 40649.23005\n",
      "Epoch 30/50\n",
      "11062/11062 [==============================] - 23s 2ms/step - loss: 38762.6393 - mean_absolute_error: 38762.6289 - val_loss: 44772.6918 - val_mean_absolute_error: 44772.6953\n",
      "\n",
      "Epoch 00030: val_loss did not improve from 40649.23005\n",
      "Epoch 31/50\n",
      "11062/11062 [==============================] - 23s 2ms/step - loss: 37869.6639 - mean_absolute_error: 37869.6719 - val_loss: 41101.3147 - val_mean_absolute_error: 41101.3203\n",
      "\n",
      "Epoch 00031: val_loss did not improve from 40649.23005\n",
      "Epoch 32/50\n",
      "11062/11062 [==============================] - 23s 2ms/step - loss: 38102.1360 - mean_absolute_error: 38102.1328 - val_loss: 41822.9038 - val_mean_absolute_error: 41822.8906\n",
      "\n",
      "Epoch 00032: val_loss did not improve from 40649.23005\n",
      "Epoch 33/50\n",
      "11062/11062 [==============================] - 23s 2ms/step - loss: 38280.5091 - mean_absolute_error: 38280.5000 - val_loss: 41689.5342 - val_mean_absolute_error: 41689.5391\n",
      "\n",
      "Epoch 00033: val_loss did not improve from 40649.23005\n",
      "Epoch 34/50\n",
      "11062/11062 [==============================] - 23s 2ms/step - loss: 38326.5100 - mean_absolute_error: 38326.4961 - val_loss: 43678.7894 - val_mean_absolute_error: 43678.7734\n",
      "\n",
      "Epoch 00034: val_loss did not improve from 40649.23005\n",
      "Epoch 35/50\n",
      "11062/11062 [==============================] - 23s 2ms/step - loss: 38504.8567 - mean_absolute_error: 38504.8633 - val_loss: 41919.9572 - val_mean_absolute_error: 41919.9492\n",
      "\n",
      "Epoch 00035: val_loss did not improve from 40649.23005\n",
      "Epoch 36/50\n"
     ]
    },
    {
     "name": "stdout",
     "output_type": "stream",
     "text": [
      "11062/11062 [==============================] - 23s 2ms/step - loss: 37804.6284 - mean_absolute_error: 37804.6367 - val_loss: 43676.4214 - val_mean_absolute_error: 43676.4258\n",
      "\n",
      "Epoch 00036: val_loss did not improve from 40649.23005\n",
      "Epoch 37/50\n",
      "11062/11062 [==============================] - 22s 2ms/step - loss: 38391.3038 - mean_absolute_error: 38391.3008 - val_loss: 41671.7242 - val_mean_absolute_error: 41671.7266\n",
      "\n",
      "Epoch 00037: val_loss did not improve from 40649.23005\n",
      "Epoch 38/50\n",
      "11062/11062 [==============================] - 22s 2ms/step - loss: 37993.8522 - mean_absolute_error: 37993.8398 - val_loss: 43300.1239 - val_mean_absolute_error: 43300.1289\n",
      "\n",
      "Epoch 00038: val_loss did not improve from 40649.23005\n",
      "Epoch 39/50\n",
      "11062/11062 [==============================] - 22s 2ms/step - loss: 38325.2325 - mean_absolute_error: 38325.2305 - val_loss: 43258.6518 - val_mean_absolute_error: 43258.6484\n",
      "\n",
      "Epoch 00039: val_loss did not improve from 40649.23005\n",
      "Epoch 40/50\n",
      "11062/11062 [==============================] - 22s 2ms/step - loss: 37819.2872 - mean_absolute_error: 37819.2773 - val_loss: 44156.0211 - val_mean_absolute_error: 44156.0234\n",
      "\n",
      "Epoch 00040: val_loss did not improve from 40649.23005\n",
      "Epoch 41/50\n",
      "11062/11062 [==============================] - 22s 2ms/step - loss: 37531.9804 - mean_absolute_error: 37531.9805 - val_loss: 44616.9419 - val_mean_absolute_error: 44616.9414\n",
      "\n",
      "Epoch 00041: val_loss did not improve from 40649.23005\n",
      "Epoch 42/50\n",
      "11062/11062 [==============================] - 22s 2ms/step - loss: 37622.4278 - mean_absolute_error: 37622.4297 - val_loss: 41900.7673 - val_mean_absolute_error: 41900.7656\n",
      "\n",
      "Epoch 00042: val_loss did not improve from 40649.23005\n",
      "Epoch 43/50\n",
      "11062/11062 [==============================] - 23s 2ms/step - loss: 37845.5394 - mean_absolute_error: 37845.5469 - val_loss: 41277.9298 - val_mean_absolute_error: 41277.9414\n",
      "\n",
      "Epoch 00043: val_loss did not improve from 40649.23005\n",
      "Epoch 44/50\n",
      "11062/11062 [==============================] - 22s 2ms/step - loss: 38521.5215 - mean_absolute_error: 38521.5234 - val_loss: 45420.7905 - val_mean_absolute_error: 45420.7891\n",
      "\n",
      "Epoch 00044: val_loss did not improve from 40649.23005\n",
      "Epoch 45/50\n",
      "11062/11062 [==============================] - 23s 2ms/step - loss: 38106.9009 - mean_absolute_error: 38106.8906 - val_loss: 42532.9542 - val_mean_absolute_error: 42532.9492\n",
      "\n",
      "Epoch 00045: val_loss did not improve from 40649.23005\n",
      "Epoch 46/50\n",
      "11062/11062 [==============================] - 23s 2ms/step - loss: 37515.2479 - mean_absolute_error: 37515.2461 - val_loss: 41569.2082 - val_mean_absolute_error: 41569.2070\n",
      "\n",
      "Epoch 00046: val_loss did not improve from 40649.23005\n",
      "Epoch 47/50\n",
      "11062/11062 [==============================] - 23s 2ms/step - loss: 37518.4111 - mean_absolute_error: 37518.4219 - val_loss: 42785.9001 - val_mean_absolute_error: 42785.8867\n",
      "\n",
      "Epoch 00047: val_loss did not improve from 40649.23005\n",
      "Epoch 48/50\n",
      "11062/11062 [==============================] - 23s 2ms/step - loss: 37133.4027 - mean_absolute_error: 37133.3867 - val_loss: 41162.6757 - val_mean_absolute_error: 41162.6797\n",
      "\n",
      "Epoch 00048: val_loss did not improve from 40649.23005\n",
      "Epoch 49/50\n",
      "11062/11062 [==============================] - 23s 2ms/step - loss: 37365.2205 - mean_absolute_error: 37365.2266 - val_loss: 41467.6478 - val_mean_absolute_error: 41467.6445\n",
      "\n",
      "Epoch 00049: val_loss did not improve from 40649.23005\n",
      "Epoch 50/50\n",
      "11062/11062 [==============================] - 23s 2ms/step - loss: 37294.8750 - mean_absolute_error: 37294.8789 - val_loss: 41725.2742 - val_mean_absolute_error: 41725.2656\n",
      "\n",
      "Epoch 00050: val_loss did not improve from 40649.23005\n"
     ]
    },
    {
     "data": {
      "text/plain": [
       "<keras.callbacks.callbacks.History at 0x267c835ec48>"
      ]
     },
     "execution_count": 278,
     "metadata": {},
     "output_type": "execute_result"
    }
   ],
   "source": [
    "checkpoint_name = 'Weights-{epoch:03d}--{val_loss:.5f}.hdf5' \n",
    "checkpoint = ModelCheckpoint(checkpoint_name, monitor='val_loss', verbose = 1, save_best_only = True, mode ='auto')\n",
    "callbacks_list = [checkpoint,learning_rate_reduction]\n",
    "NN_model.fit(X_train, y_train, epochs=50, batch_size=32, validation_split = 0.2, callbacks=callbacks_list)"
   ]
  },
  {
   "cell_type": "code",
   "execution_count": 102,
   "metadata": {},
   "outputs": [
    {
     "data": {
      "text/plain": [
       "0.7201761690505505"
      ]
     },
     "execution_count": 102,
     "metadata": {},
     "output_type": "execute_result"
    }
   ],
   "source": [
    "wights_file = 'Weights-001--40649.23005.hdf5' # choose the best checkpoint \n",
    "NN_model.load_weights(wights_file) # load it\n",
    "NN_model.compile(loss='mean_absolute_error', optimizer='adam', metrics=['mean_absolute_error'])\n",
    "y_pred=NN_model.predict(X_test)\n",
    "r2_score(y_test,y_pred)"
   ]
  },
  {
   "cell_type": "code",
   "execution_count": 111,
   "metadata": {},
   "outputs": [
    {
     "name": "stdout",
     "output_type": "stream",
     "text": [
      "20640\n",
      "(20640, 17)\n",
      "17\n",
      "       longitude  latitude  housing_median_age  total_rooms  total_bedrooms  \\\n",
      "0        -122.23     37.88                  41          880           129.0   \n",
      "1        -122.22     37.86                  21         7099          1106.0   \n",
      "2        -122.24     37.85                  52         1467           190.0   \n",
      "3        -122.25     37.85                  52         1274           235.0   \n",
      "4        -122.25     37.85                  52         1627           280.0   \n",
      "...          ...       ...                 ...          ...             ...   \n",
      "20635    -121.09     39.48                  25         1665           374.0   \n",
      "20636    -121.21     39.49                  18          697           150.0   \n",
      "20637    -121.22     39.43                  17         2254           485.0   \n",
      "20638    -121.32     39.43                  18         1860           409.0   \n",
      "20639    -121.24     39.37                  16         2785           616.0   \n",
      "\n",
      "       population  households  median_income  rooms_per_household  \\\n",
      "0             322         126         8.3252             1.023810   \n",
      "1            2401        1138         8.3014             0.971880   \n",
      "2             496         177         7.2574             1.073446   \n",
      "3             558         219         5.6431             1.073059   \n",
      "4             565         259         3.8462             1.081081   \n",
      "...           ...         ...            ...                  ...   \n",
      "20635         845         330         1.5603             1.133333   \n",
      "20636         356         114         2.5568             1.315789   \n",
      "20637        1007         433         1.7000             1.120092   \n",
      "20638         741         349         1.8672             1.171920   \n",
      "20639        1387         530         2.3886             1.162264   \n",
      "\n",
      "       bedrooms_per_rooms  population_per_household  \\\n",
      "0                0.146591                  2.555556   \n",
      "1                0.155797                  2.109842   \n",
      "2                0.129516                  2.802260   \n",
      "3                0.184458                  2.547945   \n",
      "4                0.172096                  2.181467   \n",
      "...                   ...                       ...   \n",
      "20635            0.224625                  2.560606   \n",
      "20636            0.215208                  3.122807   \n",
      "20637            0.215173                  2.325635   \n",
      "20638            0.219892                  2.123209   \n",
      "20639            0.221185                  2.616981   \n",
      "\n",
      "       ocean_proximity_<1H OCEAN  ocean_proximity_INLAND  \\\n",
      "0                              0                       0   \n",
      "1                              0                       0   \n",
      "2                              0                       0   \n",
      "3                              0                       0   \n",
      "4                              0                       0   \n",
      "...                          ...                     ...   \n",
      "20635                          0                       1   \n",
      "20636                          0                       1   \n",
      "20637                          0                       1   \n",
      "20638                          0                       1   \n",
      "20639                          0                       1   \n",
      "\n",
      "       ocean_proximity_ISLAND  ocean_proximity_NEAR BAY  \\\n",
      "0                           0                         1   \n",
      "1                           0                         1   \n",
      "2                           0                         1   \n",
      "3                           0                         1   \n",
      "4                           0                         1   \n",
      "...                       ...                       ...   \n",
      "20635                       0                         0   \n",
      "20636                       0                         0   \n",
      "20637                       0                         0   \n",
      "20638                       0                         0   \n",
      "20639                       0                         0   \n",
      "\n",
      "       ocean_proximity_NEAR OCEAN  median_house_value  \n",
      "0                               0              452600  \n",
      "1                               0              358500  \n",
      "2                               0              352100  \n",
      "3                               0              341300  \n",
      "4                               0              342200  \n",
      "...                           ...                 ...  \n",
      "20635                           0               78100  \n",
      "20636                           0               77100  \n",
      "20637                           0               92300  \n",
      "20638                           0               84700  \n",
      "20639                           0               89400  \n",
      "\n",
      "[20640 rows x 17 columns]\n",
      "Index(['longitude', 'latitude', 'housing_median_age', 'total_rooms',\n",
      "       'total_bedrooms', 'population', 'households', 'median_income',\n",
      "       'rooms_per_household', 'bedrooms_per_rooms', 'population_per_household',\n",
      "       'ocean_proximity_<1H OCEAN', 'ocean_proximity_INLAND',\n",
      "       'ocean_proximity_ISLAND', 'ocean_proximity_NEAR BAY',\n",
      "       'ocean_proximity_NEAR OCEAN', 'median_house_value'],\n",
      "      dtype='object')\n"
     ]
    }
   ],
   "source": [
    "import numpy as np\n",
    "import pandas as pd\n",
    "import matplotlib.pyplot as plt\n",
    "import seaborn as sns\n",
    "%matplotlib inline\n",
    "housing=pd.read_csv('final.csv')\n",
    "print(len(housing))\n",
    "print(housing.shape)\n",
    "print(len(housing.columns))\n",
    "print(housing)\n",
    "print(housing.columns)"
   ]
  },
  {
   "cell_type": "code",
   "execution_count": 62,
   "metadata": {},
   "outputs": [
    {
     "name": "stdout",
     "output_type": "stream",
     "text": [
      "Features: [-1.22230000e+02  3.78800000e+01  4.10000000e+01  8.80000000e+02\n",
      "  1.29000000e+02  3.22000000e+02  1.26000000e+02  8.32520000e+00\n",
      "  3.00000000e+00  1.02380952e+00  1.46590909e-01  2.55555556e+00], Target: 452600.0\n",
      "Features: [-1.22220000e+02  3.78600000e+01  2.10000000e+01  7.09900000e+03\n",
      "  1.10600000e+03  2.40100000e+03  1.13800000e+03  8.30140000e+00\n",
      "  3.00000000e+00  9.71880492e-01  1.55796591e-01  2.10984183e+00], Target: 358500.0\n",
      "Features: [-1.22240000e+02  3.78500000e+01  5.20000000e+01  1.46700000e+03\n",
      "  1.90000000e+02  4.96000000e+02  1.77000000e+02  7.25740000e+00\n",
      "  3.00000000e+00  1.07344633e+00  1.29516019e-01  2.80225989e+00], Target: 352100.0\n",
      "Features: [-1.22250000e+02  3.78500000e+01  5.20000000e+01  1.27400000e+03\n",
      "  2.35000000e+02  5.58000000e+02  2.19000000e+02  5.64310000e+00\n",
      "  3.00000000e+00  1.07305936e+00  1.84458399e-01  2.54794521e+00], Target: 341300.0\n",
      "Features: [-1.22250000e+02  3.78500000e+01  5.20000000e+01  1.62700000e+03\n",
      "  2.80000000e+02  5.65000000e+02  2.59000000e+02  3.84620000e+00\n",
      "  3.00000000e+00  1.08108108e+00  1.72095882e-01  2.18146718e+00], Target: 342200.0\n",
      "Train for 1290 steps\n",
      "Epoch 1/15\n",
      "1290/1290 [==============================] - 3s 2ms/step - loss: 168369.2438 - mean_absolute_error: 168369.2812\n",
      "Epoch 2/15\n",
      "1290/1290 [==============================] - 2s 2ms/step - loss: 118914.0753 - mean_absolute_error: 118914.0625\n",
      "Epoch 3/15\n",
      "1290/1290 [==============================] - 2s 2ms/step - loss: 116417.3894 - mean_absolute_error: 116417.2656\n",
      "Epoch 4/15\n",
      "1290/1290 [==============================] - 2s 2ms/step - loss: 115624.0219 - mean_absolute_error: 115624.0156\n",
      "Epoch 5/15\n",
      "1290/1290 [==============================] - 2s 2ms/step - loss: 114861.3380 - mean_absolute_error: 114861.4062\n",
      "Epoch 6/15\n",
      "1290/1290 [==============================] - 2s 2ms/step - loss: 114060.5037 - mean_absolute_error: 114060.5000\n",
      "Epoch 7/15\n",
      "1290/1290 [==============================] - 2s 2ms/step - loss: 113220.2808 - mean_absolute_error: 113220.3281\n",
      "Epoch 8/15\n",
      "1290/1290 [==============================] - 2s 2ms/step - loss: 112343.4595 - mean_absolute_error: 112343.4062\n",
      "Epoch 9/15\n",
      "1290/1290 [==============================] - 2s 2ms/step - loss: 111423.2350 - mean_absolute_error: 111423.2656\n",
      "Epoch 10/15\n",
      "1290/1290 [==============================] - 2s 2ms/step - loss: 110466.5900 - mean_absolute_error: 110466.6641\n",
      "Epoch 11/15\n",
      "1290/1290 [==============================] - 2s 2ms/step - loss: 109457.5340 - mean_absolute_error: 109457.5391\n",
      "Epoch 12/15\n",
      "1290/1290 [==============================] - 2s 2ms/step - loss: 108425.7063 - mean_absolute_error: 108425.7109\n",
      "Epoch 13/15\n",
      "1290/1290 [==============================] - 2s 2ms/step - loss: 107335.3546 - mean_absolute_error: 107335.3672\n",
      "Epoch 14/15\n",
      "1290/1290 [==============================] - 3s 2ms/step - loss: 106198.0949 - mean_absolute_error: 106198.0156\n",
      "Epoch 15/15\n",
      "1290/1290 [==============================] - 2s 2ms/step - loss: 105027.1930 - mean_absolute_error: 105027.1875\n"
     ]
    },
    {
     "data": {
      "text/plain": [
       "<tensorflow.python.keras.callbacks.History at 0x206efb83dc8>"
      ]
     },
     "execution_count": 62,
     "metadata": {},
     "output_type": "execute_result"
    }
   ],
   "source": [
    "import numpy as np\n",
    "import pandas as pd\n",
    "import matplotlib.pyplot as plt\n",
    "import seaborn as sns\n",
    "%matplotlib inline\n",
    "housing=pd.read_csv('housing.csv')\n",
    "housing[\"rooms_per_household\"]=housing[\"total_bedrooms\"]/housing[\"households\"]\n",
    "housing[\"bedrooms_per_rooms\"]=housing[\"total_bedrooms\"]/housing[\"total_rooms\"]\n",
    "housing[\"population_per_household\"]=housing[\"population\"]/housing[\"households\"]\n",
    "men=housing[\"total_bedrooms\"].mean()\n",
    "housing[\"total_bedrooms\"].fillna(men,inplace=True)\n",
    "men2=housing[\"rooms_per_household\"].mean()\n",
    "housing[\"rooms_per_household\"].fillna(men2,inplace=True)\n",
    "men3=housing[\"bedrooms_per_rooms\"].mean()\n",
    "housing[\"bedrooms_per_rooms\"].fillna(men3,inplace=True)\n",
    "df=housing.copy()\n",
    "df.head()\n",
    "df['ocean_proximity'] = pd.Categorical(df['ocean_proximity'])\n",
    "df['ocean_proximity'] = df.ocean_proximity.cat.codes\n",
    "df.head()\n",
    "target = df.pop('median_house_value')\n",
    "dataset = tf.data.Dataset.from_tensor_slices((df.values, target.values))\n",
    "for feat, targ in dataset.take(5):\n",
    "    print('Features: {}, Target: {}'.format(feat, targ))\n",
    "\n",
    "train_dataset = dataset.shuffle(len(df)).batch(1)\n",
    "inputs = {key: tf.keras.layers.Input(shape=(), name=key) for key in df.keys()}\n",
    "x = tf.stack(list(inputs.values()), axis=-1)\n",
    "\n",
    "x = tf.keras.layers.Dense(10, activation='relu')(x)\n",
    "output = tf.keras.layers.Dense(1)(x)\n",
    "\n",
    "model_func = tf.keras.Model(inputs=inputs, outputs=output)\n",
    "\n",
    "model_func.compile(optimizer='adam',\n",
    "                   loss='mean_absolute_error',\n",
    "                   metrics=['mean_absolute_error'])\n",
    "dict_slices = tf.data.Dataset.from_tensor_slices((df.to_dict('list'), target.values)).batch(16)\n",
    "model_func.fit(dict_slices, epochs=15)\n",
    "\n"
   ]
  },
  {
   "cell_type": "code",
   "execution_count": null,
   "metadata": {
    "scrolled": false
   },
   "outputs": [],
   "source": [
    "\n",
    "train_dataset = dataset.shuffle(len(df)).batch(1)\n",
    "inputs = {key: tf.keras.layers.Input(shape=(), name=key) for key in df.keys()}\n",
    "x = tf.stack(list(inputs.values()), axis=-1)\n",
    "\n",
    "out1= tf.keras.layers.Dense(512,kernel_initializer='normal', activation='relu')(x)\n",
    "out2 = tf.keras.layers.Dense(1024,kernel_initializer='normal', activation='relu')(out1)\n",
    "out3 = tf.keras.layers.Dense(1024,kernel_initializer='normal', activation='relu')(out2)\n",
    "out4 = tf.keras.layers.Dense(1024,kernel_initializer='normal', activation='relu')(out3)\n",
    "\n",
    "output = tf.keras.layers.Dense(1,kernel_initializer='normal',activation='linear')(out4)\n",
    "\n",
    "model_func = tf.keras.Model(inputs=inputs, outputs=output)\n",
    "\n",
    "model_func.compile(optimizer='adam',\n",
    "                   loss='mean_absolute_error',\n",
    "                   metrics=['mean_absolute_error'])\n",
    "dict_slices = tf.data.Dataset.from_tensor_slices((df.to_dict('list'), target.values)).batch(16)\n",
    "\n",
    "callbacks_list = [learning_rate_reduction]\n",
    "model_func.fit(dict_slices, epochs=80)"
   ]
  }
 ],
 "metadata": {
  "kernelspec": {
   "display_name": "Python 3",
   "language": "python",
   "name": "python3"
  },
  "language_info": {
   "codemirror_mode": {
    "name": "ipython",
    "version": 3
   },
   "file_extension": ".py",
   "mimetype": "text/x-python",
   "name": "python",
   "nbconvert_exporter": "python",
   "pygments_lexer": "ipython3",
   "version": "3.7.6"
  }
 },
 "nbformat": 4,
 "nbformat_minor": 4
}
